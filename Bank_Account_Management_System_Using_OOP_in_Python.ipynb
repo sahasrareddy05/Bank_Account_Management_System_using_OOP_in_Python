{
  "nbformat": 4,
  "nbformat_minor": 0,
  "metadata": {
    "colab": {
      "provenance": [],
      "authorship_tag": "ABX9TyM703qIi7EVsO7+DszmK4jk",
      "include_colab_link": true
    },
    "kernelspec": {
      "name": "python3",
      "display_name": "Python 3"
    },
    "language_info": {
      "name": "python"
    }
  },
  "cells": [
    {
      "cell_type": "markdown",
      "metadata": {
        "id": "view-in-github",
        "colab_type": "text"
      },
      "source": [
        "<a href=\"https://colab.research.google.com/github/sahasrareddy05/Bank_Account_Management_System_using_OOP_in_Python/blob/main/Bank_Account_Management_System_Using_OOP_in_Python.ipynb\" target=\"_parent\"><img src=\"https://colab.research.google.com/assets/colab-badge.svg\" alt=\"Open In Colab\"/></a>"
      ]
    },
    {
      "cell_type": "markdown",
      "source": [
        "**Bank Account Management System using OOP in Python**"
      ],
      "metadata": {
        "id": "wPSS3GNO4LLN"
      }
    },
    {
      "cell_type": "code",
      "source": [
        "from abc import ABC, abstractmethod#ABstract Base class\n",
        "\n",
        "class Account(ABC):\n",
        "     def __init__(self, account_number, account_holder):\n",
        "         self.account_number = account_number\n",
        "         self.account_holder = account_holder\n",
        "         self._balance = 0  # Protected variable (Encapsulation)\n",
        "\n",
        "     def get_balance(self):\n",
        "         return self._balance\n",
        "\n",
        "     def set_balance(self, amount):\n",
        "         if amount >= 0:\n",
        "             self._balance = amount\n",
        "\n",
        "     @abstractmethod\n",
        "     def deposit(self, amount):\n",
        "         pass\n",
        "\n",
        "     @abstractmethod\n",
        "     def withdraw(self, amount):\n",
        "         pass\n",
        "\n",
        "     def display_info(self):\n",
        "         print(f\"Account: {self.account_number}, Holder: {self.account_holder}, Balance: ₹{self._balance}\")\n",
        "\n",
        "\n",
        "class SavingsAccount(Account):\n",
        "    def deposit(self, amount):\n",
        "          if amount > 0:\n",
        "             self._balance += amount\n",
        "             print(f\"₹{amount} deposited into Savings Account.\")\n",
        "          else:\n",
        "              print(\"Invalid deposit amount.\")\n",
        "\n",
        "    def withdraw(self, amount):\n",
        "          if 0 < amount <= self._balance:\n",
        "             self._balance -= amount\n",
        "             print(f\"₹{amount} withdrawn from Savings Account.\")\n",
        "          else:\n",
        "             print(\"Insufficient balance or invalid amount.\")\n",
        "\n",
        "#Child class - CurrentAccount (Inheritance + Polymorphism)\n",
        "class CurrentAccount(Account):\n",
        "     def __init__(self, account_number, account_holder):\n",
        "         super().__init__(account_number, account_holder)\n",
        "         self.overdraft_limit = 1000\n",
        "\n",
        "     def deposit(self, amount):\n",
        "         if amount > 0:\n",
        "             self._balance += amount\n",
        "             print(f\"₹{amount} deposited into Current Account.\")\n",
        "         else:\n",
        "             print(\"Invalid deposit amount.\")\n",
        "\n",
        "     def withdraw(self, amount):\n",
        "         if 0 < amount <= self._balance + self.overdraft_limit:\n",
        "             self._balance -= amount\n",
        "             print(f\"₹{amount} withdrawn from Current Account.\")\n",
        "         else:\n",
        "             print(\"Overdraft limit exceeded or invalid amount.\")\n",
        "\n",
        "\n",
        "def main():\n",
        "      print(\"=== Banking System Demo ===\")\n",
        "\n",
        "      savings = SavingsAccount(\"S101\", \"Prem\")\n",
        "      current = CurrentAccount(\"C202\", \"Chand\")\n",
        "\n",
        "\n",
        "      for account in (savings, current):\n",
        "         account.display_info()\n",
        "         account.deposit(1000)\n",
        "         account.withdraw(300)\n",
        "         account.display_info()\n",
        "         print()\n",
        "if __name__ == \"__main__\":\n",
        "    main()\n",
        "\n"
      ],
      "metadata": {
        "colab": {
          "base_uri": "https://localhost:8080/"
        },
        "id": "WhYKaHjN4QyU",
        "outputId": "fbb944f0-d011-488a-e0dc-ebbbf754a788"
      },
      "execution_count": 1,
      "outputs": [
        {
          "output_type": "stream",
          "name": "stdout",
          "text": [
            "=== Banking System Demo ===\n",
            "Account: S101, Holder: Prem, Balance: ₹0\n",
            "₹1000 deposited into Savings Account.\n",
            "₹300 withdrawn from Savings Account.\n",
            "Account: S101, Holder: Prem, Balance: ₹700\n",
            "\n",
            "Account: C202, Holder: Chand, Balance: ₹0\n",
            "₹1000 deposited into Current Account.\n",
            "₹300 withdrawn from Current Account.\n",
            "Account: C202, Holder: Chand, Balance: ₹700\n",
            "\n"
          ]
        }
      ]
    }
  ]
}